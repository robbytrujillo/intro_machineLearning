{
 "cells": [
  {
   "cell_type": "code",
   "execution_count": 1,
   "id": "f0561a27",
   "metadata": {},
   "outputs": [],
   "source": [
    "# import library yang digunakan\n",
    "import numpy as np\n",
    "import pandas as pd\n",
    "import matplotlib.pyplot as plt\n",
    "%matplotlib inline"
   ]
  },
  {
   "cell_type": "code",
   "execution_count": 2,
   "id": "d20262e5",
   "metadata": {},
   "outputs": [],
   "source": [
    "# load dataset\n",
    "dataset = pd.read_csv('data30062023/Data.csv')\n",
    "X = dataset.iloc[:, :-1]\n",
    "y = dataset.iloc[:, -1]"
   ]
  },
  {
   "cell_type": "code",
   "execution_count": 3,
   "id": "ea4f2a40",
   "metadata": {},
   "outputs": [],
   "source": [
    "# cek NaN & Imputasi\n"
   ]
  },
  {
   "cell_type": "code",
   "execution_count": 4,
   "id": "44de5765",
   "metadata": {},
   "outputs": [],
   "source": [
    "# cek data kategoril & lakukakn mapping\n"
   ]
  },
  {
   "cell_type": "code",
   "execution_count": 5,
   "id": "bf371d09",
   "metadata": {},
   "outputs": [],
   "source": [
    "# ubah dari dataframe / series pandas menjadi np.array\n",
    "X = X.values\n",
    "y = y.values"
   ]
  },
  {
   "cell_type": "code",
   "execution_count": null,
   "id": "87eb6c59",
   "metadata": {},
   "outputs": [],
   "source": [
    "# train test split\n",
    "from sklearn.model_selection import train_test_split\n",
    "X_train, X_test, y_train, y_test = train_test_split(X, y, test_size=0.2, random_state=0)"
   ]
  },
  {
   "cell_type": "code",
   "execution_count": null,
   "id": "288860d3",
   "metadata": {},
   "outputs": [],
   "source": [
    "# normalisasi\n"
   ]
  },
  {
   "cell_type": "code",
   "execution_count": null,
   "id": "890077df",
   "metadata": {},
   "outputs": [],
   "source": []
  }
 ],
 "metadata": {
  "kernelspec": {
   "display_name": "Python 3 (ipykernel)",
   "language": "python",
   "name": "python3"
  },
  "language_info": {
   "codemirror_mode": {
    "name": "ipython",
    "version": 3
   },
   "file_extension": ".py",
   "mimetype": "text/x-python",
   "name": "python",
   "nbconvert_exporter": "python",
   "pygments_lexer": "ipython3",
   "version": "3.10.9"
  }
 },
 "nbformat": 4,
 "nbformat_minor": 5
}
