{
 "cells": [
  {
   "cell_type": "code",
   "execution_count": 5,
   "id": "8b5533b9",
   "metadata": {},
   "outputs": [],
   "source": [
    "import numpy as np\n",
    "def euclidean_distance(a,b):\n",
    "    a = np.array(a)\n",
    "    b = np.array(b)\n",
    "    #kode anda\n",
    "    c = a - b\n",
    "    jarak = np.sqrt(c.dot(c))\n",
    "    return jarak"
   ]
  },
  {
   "cell_type": "code",
   "execution_count": 6,
   "id": "a3110e81",
   "metadata": {},
   "outputs": [
    {
     "name": "stdout",
     "output_type": "stream",
     "text": [
      "jarak a & b = 5.477225575051661\n"
     ]
    }
   ],
   "source": [
    "# eksekusi bagian ini\n",
    "\n",
    "a = [0,0,0,0]\n",
    "b = [1,2,3,4]\n",
    "\n",
    "jarak = euclidean_distance(a,b)\n",
    "print(\"jarak a & b =\", jarak)"
   ]
  },
  {
   "cell_type": "code",
   "execution_count": null,
   "id": "65642936",
   "metadata": {},
   "outputs": [],
   "source": []
  }
 ],
 "metadata": {
  "kernelspec": {
   "display_name": "Python 3 (ipykernel)",
   "language": "python",
   "name": "python3"
  },
  "language_info": {
   "codemirror_mode": {
    "name": "ipython",
    "version": 3
   },
   "file_extension": ".py",
   "mimetype": "text/x-python",
   "name": "python",
   "nbconvert_exporter": "python",
   "pygments_lexer": "ipython3",
   "version": "3.10.9"
  }
 },
 "nbformat": 4,
 "nbformat_minor": 5
}
